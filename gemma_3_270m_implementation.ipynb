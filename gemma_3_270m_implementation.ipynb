{
  "nbformat": 4,
  "nbformat_minor": 0,
  "metadata": {
    "colab": {
      "provenance": [],
      "authorship_tag": "ABX9TyN1iERrj3a05B41aFk2uc6R"
    },
    "kernelspec": {
      "name": "python3",
      "display_name": "Python 3"
    },
    "language_info": {
      "name": "python"
    },
    "widgets": {
      "application/vnd.jupyter.widget-state+json": {
        "dd8d05b942d34485ba1d0cfe5eeb6558": {
          "model_module": "@jupyter-widgets/controls",
          "model_name": "VBoxModel",
          "model_module_version": "2.0.0",
          "state": {
            "_dom_classes": [],
            "_model_module": "@jupyter-widgets/controls",
            "_model_module_version": "2.0.0",
            "_model_name": "VBoxModel",
            "_view_count": null,
            "_view_module": "@jupyter-widgets/controls",
            "_view_module_version": "2.0.0",
            "_view_name": "VBoxView",
            "box_style": "",
            "children": [
              "IPY_MODEL_1d734c3b171146af86dda9df12394d2a",
              "IPY_MODEL_f310e3e6d3f84cc4abd3c5f8fdffe575",
              "IPY_MODEL_51b8b0dabd1847d899f80425b20b3f18",
              "IPY_MODEL_d76e089bca8947b68b8021c1ba6bf9f2",
              "IPY_MODEL_ac892afdfb48473a9c6f8cb3d6ce863b"
            ],
            "layout": "IPY_MODEL_bbc1fd290bce44a391142259f244dd43",
            "tabbable": null,
            "tooltip": null
          }
        },
        "1d734c3b171146af86dda9df12394d2a": {
          "model_module": "@jupyter-widgets/controls",
          "model_name": "HTMLModel",
          "model_module_version": "2.0.0",
          "state": {
            "_dom_classes": [],
            "_model_module": "@jupyter-widgets/controls",
            "_model_module_version": "2.0.0",
            "_model_name": "HTMLModel",
            "_view_count": null,
            "_view_module": "@jupyter-widgets/controls",
            "_view_module_version": "2.0.0",
            "_view_name": "HTMLView",
            "description": "",
            "description_allow_html": false,
            "layout": "IPY_MODEL_002e0fd3b2ba4e94a89a4ae1adbe4ebd",
            "placeholder": "​",
            "style": "IPY_MODEL_3a39e253eee0423f8f8929267117422e",
            "tabbable": null,
            "tooltip": null,
            "value": "<center> <img\nsrc=https://huggingface.co/front/assets/huggingface_logo-noborder.svg\nalt='Hugging Face'> <br> Copy a token from <a\nhref=\"https://huggingface.co/settings/tokens\" target=\"_blank\">your Hugging Face\ntokens page</a> and paste it below. <br> Immediately click login after copying\nyour token or it might be stored in plain text in this notebook file. </center>"
          }
        },
        "f310e3e6d3f84cc4abd3c5f8fdffe575": {
          "model_module": "@jupyter-widgets/controls",
          "model_name": "PasswordModel",
          "model_module_version": "2.0.0",
          "state": {
            "_dom_classes": [],
            "_model_module": "@jupyter-widgets/controls",
            "_model_module_version": "2.0.0",
            "_model_name": "PasswordModel",
            "_view_count": null,
            "_view_module": "@jupyter-widgets/controls",
            "_view_module_version": "2.0.0",
            "_view_name": "PasswordView",
            "continuous_update": true,
            "description": "Token:",
            "description_allow_html": false,
            "disabled": false,
            "layout": "IPY_MODEL_f115bc11bdeb42bb91fe32977d8fd877",
            "placeholder": "​",
            "style": "IPY_MODEL_8f158a13af564a6c8852b90ef212f75f",
            "tabbable": null,
            "tooltip": null,
            "value": ""
          }
        },
        "51b8b0dabd1847d899f80425b20b3f18": {
          "model_module": "@jupyter-widgets/controls",
          "model_name": "CheckboxModel",
          "model_module_version": "2.0.0",
          "state": {
            "_dom_classes": [],
            "_model_module": "@jupyter-widgets/controls",
            "_model_module_version": "2.0.0",
            "_model_name": "CheckboxModel",
            "_view_count": null,
            "_view_module": "@jupyter-widgets/controls",
            "_view_module_version": "2.0.0",
            "_view_name": "CheckboxView",
            "description": "Add token as git credential?",
            "description_allow_html": false,
            "disabled": false,
            "indent": true,
            "layout": "IPY_MODEL_020a3da5a07b4947a2c26f0ca0091bec",
            "style": "IPY_MODEL_a1425f13643740fb9fbdbf86fead735b",
            "tabbable": null,
            "tooltip": null,
            "value": true
          }
        },
        "d76e089bca8947b68b8021c1ba6bf9f2": {
          "model_module": "@jupyter-widgets/controls",
          "model_name": "ButtonModel",
          "model_module_version": "2.0.0",
          "state": {
            "_dom_classes": [],
            "_model_module": "@jupyter-widgets/controls",
            "_model_module_version": "2.0.0",
            "_model_name": "ButtonModel",
            "_view_count": null,
            "_view_module": "@jupyter-widgets/controls",
            "_view_module_version": "2.0.0",
            "_view_name": "ButtonView",
            "button_style": "",
            "description": "Login",
            "disabled": false,
            "icon": "",
            "layout": "IPY_MODEL_5d05db9defae499abf3615967a010403",
            "style": "IPY_MODEL_d3537a5ccf18409190f431a52286e108",
            "tabbable": null,
            "tooltip": null
          }
        },
        "ac892afdfb48473a9c6f8cb3d6ce863b": {
          "model_module": "@jupyter-widgets/controls",
          "model_name": "HTMLModel",
          "model_module_version": "2.0.0",
          "state": {
            "_dom_classes": [],
            "_model_module": "@jupyter-widgets/controls",
            "_model_module_version": "2.0.0",
            "_model_name": "HTMLModel",
            "_view_count": null,
            "_view_module": "@jupyter-widgets/controls",
            "_view_module_version": "2.0.0",
            "_view_name": "HTMLView",
            "description": "",
            "description_allow_html": false,
            "layout": "IPY_MODEL_66d5a11b80644887af6e1514f83fdc13",
            "placeholder": "​",
            "style": "IPY_MODEL_d0d538c68b5a436ca0b64d9ccde4744c",
            "tabbable": null,
            "tooltip": null,
            "value": "\n<b>Pro Tip:</b> If you don't already have one, you can create a dedicated\n'notebooks' token with 'write' access, that you can then easily reuse for all\nnotebooks. </center>"
          }
        },
        "bbc1fd290bce44a391142259f244dd43": {
          "model_module": "@jupyter-widgets/base",
          "model_name": "LayoutModel",
          "model_module_version": "2.0.0",
          "state": {
            "_model_module": "@jupyter-widgets/base",
            "_model_module_version": "2.0.0",
            "_model_name": "LayoutModel",
            "_view_count": null,
            "_view_module": "@jupyter-widgets/base",
            "_view_module_version": "2.0.0",
            "_view_name": "LayoutView",
            "align_content": null,
            "align_items": "center",
            "align_self": null,
            "border_bottom": null,
            "border_left": null,
            "border_right": null,
            "border_top": null,
            "bottom": null,
            "display": "flex",
            "flex": null,
            "flex_flow": "column",
            "grid_area": null,
            "grid_auto_columns": null,
            "grid_auto_flow": null,
            "grid_auto_rows": null,
            "grid_column": null,
            "grid_gap": null,
            "grid_row": null,
            "grid_template_areas": null,
            "grid_template_columns": null,
            "grid_template_rows": null,
            "height": null,
            "justify_content": null,
            "justify_items": null,
            "left": null,
            "margin": null,
            "max_height": null,
            "max_width": null,
            "min_height": null,
            "min_width": null,
            "object_fit": null,
            "object_position": null,
            "order": null,
            "overflow": null,
            "padding": null,
            "right": null,
            "top": null,
            "visibility": null,
            "width": "50%"
          }
        },
        "002e0fd3b2ba4e94a89a4ae1adbe4ebd": {
          "model_module": "@jupyter-widgets/base",
          "model_name": "LayoutModel",
          "model_module_version": "2.0.0",
          "state": {
            "_model_module": "@jupyter-widgets/base",
            "_model_module_version": "2.0.0",
            "_model_name": "LayoutModel",
            "_view_count": null,
            "_view_module": "@jupyter-widgets/base",
            "_view_module_version": "2.0.0",
            "_view_name": "LayoutView",
            "align_content": null,
            "align_items": null,
            "align_self": null,
            "border_bottom": null,
            "border_left": null,
            "border_right": null,
            "border_top": null,
            "bottom": null,
            "display": null,
            "flex": null,
            "flex_flow": null,
            "grid_area": null,
            "grid_auto_columns": null,
            "grid_auto_flow": null,
            "grid_auto_rows": null,
            "grid_column": null,
            "grid_gap": null,
            "grid_row": null,
            "grid_template_areas": null,
            "grid_template_columns": null,
            "grid_template_rows": null,
            "height": null,
            "justify_content": null,
            "justify_items": null,
            "left": null,
            "margin": null,
            "max_height": null,
            "max_width": null,
            "min_height": null,
            "min_width": null,
            "object_fit": null,
            "object_position": null,
            "order": null,
            "overflow": null,
            "padding": null,
            "right": null,
            "top": null,
            "visibility": null,
            "width": null
          }
        },
        "3a39e253eee0423f8f8929267117422e": {
          "model_module": "@jupyter-widgets/controls",
          "model_name": "HTMLStyleModel",
          "model_module_version": "2.0.0",
          "state": {
            "_model_module": "@jupyter-widgets/controls",
            "_model_module_version": "2.0.0",
            "_model_name": "HTMLStyleModel",
            "_view_count": null,
            "_view_module": "@jupyter-widgets/base",
            "_view_module_version": "2.0.0",
            "_view_name": "StyleView",
            "background": null,
            "description_width": "",
            "font_size": null,
            "text_color": null
          }
        },
        "f115bc11bdeb42bb91fe32977d8fd877": {
          "model_module": "@jupyter-widgets/base",
          "model_name": "LayoutModel",
          "model_module_version": "2.0.0",
          "state": {
            "_model_module": "@jupyter-widgets/base",
            "_model_module_version": "2.0.0",
            "_model_name": "LayoutModel",
            "_view_count": null,
            "_view_module": "@jupyter-widgets/base",
            "_view_module_version": "2.0.0",
            "_view_name": "LayoutView",
            "align_content": null,
            "align_items": null,
            "align_self": null,
            "border_bottom": null,
            "border_left": null,
            "border_right": null,
            "border_top": null,
            "bottom": null,
            "display": null,
            "flex": null,
            "flex_flow": null,
            "grid_area": null,
            "grid_auto_columns": null,
            "grid_auto_flow": null,
            "grid_auto_rows": null,
            "grid_column": null,
            "grid_gap": null,
            "grid_row": null,
            "grid_template_areas": null,
            "grid_template_columns": null,
            "grid_template_rows": null,
            "height": null,
            "justify_content": null,
            "justify_items": null,
            "left": null,
            "margin": null,
            "max_height": null,
            "max_width": null,
            "min_height": null,
            "min_width": null,
            "object_fit": null,
            "object_position": null,
            "order": null,
            "overflow": null,
            "padding": null,
            "right": null,
            "top": null,
            "visibility": null,
            "width": null
          }
        },
        "8f158a13af564a6c8852b90ef212f75f": {
          "model_module": "@jupyter-widgets/controls",
          "model_name": "TextStyleModel",
          "model_module_version": "2.0.0",
          "state": {
            "_model_module": "@jupyter-widgets/controls",
            "_model_module_version": "2.0.0",
            "_model_name": "TextStyleModel",
            "_view_count": null,
            "_view_module": "@jupyter-widgets/base",
            "_view_module_version": "2.0.0",
            "_view_name": "StyleView",
            "background": null,
            "description_width": "",
            "font_size": null,
            "text_color": null
          }
        },
        "020a3da5a07b4947a2c26f0ca0091bec": {
          "model_module": "@jupyter-widgets/base",
          "model_name": "LayoutModel",
          "model_module_version": "2.0.0",
          "state": {
            "_model_module": "@jupyter-widgets/base",
            "_model_module_version": "2.0.0",
            "_model_name": "LayoutModel",
            "_view_count": null,
            "_view_module": "@jupyter-widgets/base",
            "_view_module_version": "2.0.0",
            "_view_name": "LayoutView",
            "align_content": null,
            "align_items": null,
            "align_self": null,
            "border_bottom": null,
            "border_left": null,
            "border_right": null,
            "border_top": null,
            "bottom": null,
            "display": null,
            "flex": null,
            "flex_flow": null,
            "grid_area": null,
            "grid_auto_columns": null,
            "grid_auto_flow": null,
            "grid_auto_rows": null,
            "grid_column": null,
            "grid_gap": null,
            "grid_row": null,
            "grid_template_areas": null,
            "grid_template_columns": null,
            "grid_template_rows": null,
            "height": null,
            "justify_content": null,
            "justify_items": null,
            "left": null,
            "margin": null,
            "max_height": null,
            "max_width": null,
            "min_height": null,
            "min_width": null,
            "object_fit": null,
            "object_position": null,
            "order": null,
            "overflow": null,
            "padding": null,
            "right": null,
            "top": null,
            "visibility": null,
            "width": null
          }
        },
        "a1425f13643740fb9fbdbf86fead735b": {
          "model_module": "@jupyter-widgets/controls",
          "model_name": "CheckboxStyleModel",
          "model_module_version": "2.0.0",
          "state": {
            "_model_module": "@jupyter-widgets/controls",
            "_model_module_version": "2.0.0",
            "_model_name": "CheckboxStyleModel",
            "_view_count": null,
            "_view_module": "@jupyter-widgets/base",
            "_view_module_version": "2.0.0",
            "_view_name": "StyleView",
            "background": null,
            "description_width": ""
          }
        },
        "5d05db9defae499abf3615967a010403": {
          "model_module": "@jupyter-widgets/base",
          "model_name": "LayoutModel",
          "model_module_version": "2.0.0",
          "state": {
            "_model_module": "@jupyter-widgets/base",
            "_model_module_version": "2.0.0",
            "_model_name": "LayoutModel",
            "_view_count": null,
            "_view_module": "@jupyter-widgets/base",
            "_view_module_version": "2.0.0",
            "_view_name": "LayoutView",
            "align_content": null,
            "align_items": null,
            "align_self": null,
            "border_bottom": null,
            "border_left": null,
            "border_right": null,
            "border_top": null,
            "bottom": null,
            "display": null,
            "flex": null,
            "flex_flow": null,
            "grid_area": null,
            "grid_auto_columns": null,
            "grid_auto_flow": null,
            "grid_auto_rows": null,
            "grid_column": null,
            "grid_gap": null,
            "grid_row": null,
            "grid_template_areas": null,
            "grid_template_columns": null,
            "grid_template_rows": null,
            "height": null,
            "justify_content": null,
            "justify_items": null,
            "left": null,
            "margin": null,
            "max_height": null,
            "max_width": null,
            "min_height": null,
            "min_width": null,
            "object_fit": null,
            "object_position": null,
            "order": null,
            "overflow": null,
            "padding": null,
            "right": null,
            "top": null,
            "visibility": null,
            "width": null
          }
        },
        "d3537a5ccf18409190f431a52286e108": {
          "model_module": "@jupyter-widgets/controls",
          "model_name": "ButtonStyleModel",
          "model_module_version": "2.0.0",
          "state": {
            "_model_module": "@jupyter-widgets/controls",
            "_model_module_version": "2.0.0",
            "_model_name": "ButtonStyleModel",
            "_view_count": null,
            "_view_module": "@jupyter-widgets/base",
            "_view_module_version": "2.0.0",
            "_view_name": "StyleView",
            "button_color": null,
            "font_family": null,
            "font_size": null,
            "font_style": null,
            "font_variant": null,
            "font_weight": null,
            "text_color": null,
            "text_decoration": null
          }
        },
        "66d5a11b80644887af6e1514f83fdc13": {
          "model_module": "@jupyter-widgets/base",
          "model_name": "LayoutModel",
          "model_module_version": "2.0.0",
          "state": {
            "_model_module": "@jupyter-widgets/base",
            "_model_module_version": "2.0.0",
            "_model_name": "LayoutModel",
            "_view_count": null,
            "_view_module": "@jupyter-widgets/base",
            "_view_module_version": "2.0.0",
            "_view_name": "LayoutView",
            "align_content": null,
            "align_items": null,
            "align_self": null,
            "border_bottom": null,
            "border_left": null,
            "border_right": null,
            "border_top": null,
            "bottom": null,
            "display": null,
            "flex": null,
            "flex_flow": null,
            "grid_area": null,
            "grid_auto_columns": null,
            "grid_auto_flow": null,
            "grid_auto_rows": null,
            "grid_column": null,
            "grid_gap": null,
            "grid_row": null,
            "grid_template_areas": null,
            "grid_template_columns": null,
            "grid_template_rows": null,
            "height": null,
            "justify_content": null,
            "justify_items": null,
            "left": null,
            "margin": null,
            "max_height": null,
            "max_width": null,
            "min_height": null,
            "min_width": null,
            "object_fit": null,
            "object_position": null,
            "order": null,
            "overflow": null,
            "padding": null,
            "right": null,
            "top": null,
            "visibility": null,
            "width": null
          }
        },
        "d0d538c68b5a436ca0b64d9ccde4744c": {
          "model_module": "@jupyter-widgets/controls",
          "model_name": "HTMLStyleModel",
          "model_module_version": "2.0.0",
          "state": {
            "_model_module": "@jupyter-widgets/controls",
            "_model_module_version": "2.0.0",
            "_model_name": "HTMLStyleModel",
            "_view_count": null,
            "_view_module": "@jupyter-widgets/base",
            "_view_module_version": "2.0.0",
            "_view_name": "StyleView",
            "background": null,
            "description_width": "",
            "font_size": null,
            "text_color": null
          }
        }
      }
    }
  },
  "cells": [
    {
      "cell_type": "markdown",
      "source": [
        "![image.png](data:image/png;base64,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)"
      ],
      "metadata": {
        "id": "q7TrJ_i-bkWZ"
      }
    },
    {
      "cell_type": "code",
      "execution_count": 1,
      "metadata": {
        "id": "4odORH0nS3xf"
      },
      "outputs": [],
      "source": [
        "!pip install -r https://raw.githubusercontent.com/p1kalys/Gemma-3-270M/refs/heads/main/requirements.txt --quiet"
      ]
    },
    {
      "cell_type": "code",
      "source": [
        "from importlib.metadata import version\n",
        "\n",
        "pkgs = [\n",
        "    \"huggingface_hub\",  # to download pretrained weights\n",
        "    \"tokenizers\",       # to implement the tokenizer\n",
        "    \"torch\",            # to implement the model\n",
        "]\n",
        "for p in pkgs:\n",
        "    print(f\"{p} version: {version(p)}\")"
      ],
      "metadata": {
        "colab": {
          "base_uri": "https://localhost:8080/"
        },
        "id": "n4eoVnO-UBhH",
        "outputId": "8b5bfb75-8f1d-43a1-e6b2-bc7688533eed"
      },
      "execution_count": 2,
      "outputs": [
        {
          "output_type": "stream",
          "name": "stdout",
          "text": [
            "huggingface_hub version: 0.34.4\n",
            "tokenizers version: 0.21.4\n",
            "torch version: 2.8.0+cu126\n"
          ]
        }
      ]
    },
    {
      "cell_type": "code",
      "source": [
        "USE_INSTRUCT_MODEL = True"
      ],
      "metadata": {
        "id": "i1UEc1iYUNJc"
      },
      "execution_count": 3,
      "outputs": []
    },
    {
      "cell_type": "markdown",
      "source": [
        "# **1. Architecture**"
      ],
      "metadata": {
        "id": "CDT-CRntUZAa"
      }
    },
    {
      "cell_type": "code",
      "source": [
        "import torch\n",
        "import torch.nn as nn\n",
        "\n",
        "# Applies non linear transformation to the input tensor using two parallel linear layers, GELU (Guassian Error Linear Unit) activation function and a final linear layer to project output back to the original embedding dimension\n",
        "class FeedForward(nn.Module):\n",
        "  def __init__(self, cfg):\n",
        "    super().__init__()\n",
        "    self.fc1 = nn.Linear(cfg[\"emb_dim\"], cfg[\"hidden_dim\"], dtype=cfg[\"dtype\"], bias=False)\n",
        "    self.fc2 = nn.Linear(cfg[\"emb_dim\"], cfg[\"hidden_dim\"], dtype=cfg[\"dtype\"], bias=False)\n",
        "    self.fc3 = nn.Linear(cfg[\"hidden_dim\"], cfg[\"emb_dim\"], dtype=cfg[\"dtype\"], bias=False)\n",
        "\n",
        "  def forward(self, x):\n",
        "    x_fc1 = self.fc1(x)\n",
        "    x_fc2 = self.fc2(x)\n",
        "    x = nn.functional.gelu(x_fc1, approximate=\"tanh\") * x_fc2\n",
        "    return self.fc3(x)"
      ],
      "metadata": {
        "id": "KlazpD65URaU"
      },
      "execution_count": 4,
      "outputs": []
    },
    {
      "cell_type": "code",
      "source": [
        "# Normalizes the output of layers in the Gemma model\n",
        "class RMSNorm(nn.Module):\n",
        "  def __init__(self, emb_dim, eps=1e-6, bias=False):\n",
        "    super().__init__()\n",
        "    self.eps = eps\n",
        "    # Gemma3 stores zero-centered weights and uses (1 + weight) during forward\n",
        "    self.scale = nn.Parameter(torch.zeros(emb_dim))\n",
        "    self.shift = nn.Parameter(torch.zeros(emb_dim)) if bias else None\n",
        "\n",
        "  def forward(self, x):\n",
        "    # Match HF Gemma3: compute norm in float32, then scale by (1 + w)\n",
        "    input_dtype = x.dtype\n",
        "    x_f = x.float()\n",
        "    var = x_f.pow(2).mean(dim=-1, keepdim=True)\n",
        "    x_norm = x_f * torch.rsqrt(var + self.eps)\n",
        "    out = x_norm * (1.0 + self.scale.float())\n",
        "\n",
        "    if self.shift is not None:\n",
        "      out = out + self.shift.float()\n",
        "\n",
        "    return out.to(input_dtype)"
      ],
      "metadata": {
        "id": "lxo6hUMZUT0x"
      },
      "execution_count": 5,
      "outputs": []
    },
    {
      "cell_type": "code",
      "source": [
        "# Calculate Rotary Position Embeddings (RoPE) - injects positional information into the attention mechanism of a transformer model\n",
        "def compute_rope_params(head_dim, theta_base=10_000, context_length=4096, dtype=torch.float32):\n",
        "  assert head_dim % 2 == 0, \"Embedding dimension must be even\"\n",
        "\n",
        "  # Compute the inverse frequencies\n",
        "  inv_freq = 1.0 / (theta_base ** (torch.arange(0, head_dim, 2, dtype=dtype)[: (head_dim // 2)].float() / head_dim))\n",
        "\n",
        "  # Generate position indices\n",
        "  positions = torch.arange(context_length, dtype=dtype)\n",
        "\n",
        "  # Compute the angles\n",
        "  angles = positions[:, None] * inv_freq[None, :]  # Shape: (context_length, head_dim // 2)\n",
        "\n",
        "  # Expand angles to match the head_dim\n",
        "  angles = torch.cat([angles, angles], dim=1)  # Shape: (context_length, head_dim)\n",
        "\n",
        "  # Precompute sine and cosine\n",
        "  cos = torch.cos(angles)\n",
        "  sin = torch.sin(angles)\n",
        "\n",
        "  return cos, sin"
      ],
      "metadata": {
        "id": "-nFKsC4OVds6"
      },
      "execution_count": 6,
      "outputs": []
    },
    {
      "cell_type": "code",
      "source": [
        "# Applying RoPE to input tensor `x`\n",
        "def apply_rope(x, cos, sin):\n",
        "  # x: (batch_size, num_heads, seq_len, head_dim)\n",
        "  batch_size, num_heads, seq_len, head_dim = x.shape\n",
        "  assert head_dim % 2 == 0, \"Head dimension must be even\"\n",
        "\n",
        "  # Split x into first half and second half\n",
        "  x1 = x[..., : head_dim // 2]  # First half\n",
        "  x2 = x[..., head_dim // 2 :]  # Second half\n",
        "\n",
        "  # Adjust sin and cos shapes\n",
        "  cos = cos[:seq_len, :].unsqueeze(0).unsqueeze(0)  # Shape: (1, 1, seq_len, head_dim)\n",
        "  sin = sin[:seq_len, :].unsqueeze(0).unsqueeze(0)\n",
        "\n",
        "  # Apply the rotary transformation\n",
        "  rotated = torch.cat((-x2, x1), dim=-1)\n",
        "  x_rotated = (x * cos) + (rotated * sin)\n",
        "\n",
        "  # It's ok to use lower-precision after applying cos and sin rotation\n",
        "  return x_rotated.to(dtype=x.dtype)"
      ],
      "metadata": {
        "id": "d7_dDmstVnYp"
      },
      "execution_count": 7,
      "outputs": []
    },
    {
      "cell_type": "code",
      "source": [
        "# GQA - an optimization of standard multi-head attention which is the grouping of key and value heads to reduce computation.\n",
        "class GroupedQueryAttention(nn.Module):\n",
        "  def __init__(self, d_in, num_heads, num_kv_groups, head_dim=None, qk_norm=False, query_pre_attn_scalar=None, dtype=None):\n",
        "    super().__init__()\n",
        "    assert num_heads % num_kv_groups == 0, \"num_heads must be divisible by num_kv_groups\"\n",
        "\n",
        "    self.num_heads = num_heads\n",
        "    self.num_kv_groups = num_kv_groups\n",
        "    self.group_size = num_heads // num_kv_groups\n",
        "\n",
        "    if head_dim is None:\n",
        "      assert d_in % num_heads == 0, \"`d_in` must be divisible by `num_heads` if `head_dim` is not set\"\n",
        "      head_dim = d_in // num_heads\n",
        "\n",
        "    self.head_dim = head_dim\n",
        "    self.d_out = num_heads * head_dim\n",
        "\n",
        "    self.W_query = nn.Linear(d_in, self.d_out, bias=False, dtype=dtype)\n",
        "    self.W_key = nn.Linear(d_in, num_kv_groups * head_dim, bias=False, dtype=dtype)\n",
        "    self.W_value = nn.Linear(d_in, num_kv_groups * head_dim, bias=False, dtype=dtype)\n",
        "\n",
        "    self.out_proj = nn.Linear(self.d_out, d_in, bias=False, dtype=dtype)\n",
        "\n",
        "    if qk_norm:\n",
        "      self.q_norm = RMSNorm(head_dim, eps=1e-6)\n",
        "      self.k_norm = RMSNorm(head_dim, eps=1e-6)\n",
        "    else:\n",
        "      self.q_norm = self.k_norm = None\n",
        "\n",
        "    if query_pre_attn_scalar is not None:\n",
        "      self.scaling = (query_pre_attn_scalar) ** -0.5\n",
        "    else:\n",
        "      self.scaling = (head_dim) ** -0.5\n",
        "\n",
        "\n",
        "  def forward(self, x, mask, cos, sin):\n",
        "    b, num_tokens, _ = x.shape\n",
        "\n",
        "    # Apply projections\n",
        "    queries = self.W_query(x)  # (b, num_tokens, num_heads * head_dim)\n",
        "    keys = self.W_key(x)       # (b, num_tokens, num_kv_groups * head_dim)\n",
        "    values = self.W_value(x)   # (b, num_tokens, num_kv_groups * head_dim)\n",
        "\n",
        "    # Reshape\n",
        "    queries = queries.view(b, num_tokens, self.num_heads, self.head_dim).transpose(1, 2)\n",
        "    keys = keys.view(b, num_tokens, self.num_kv_groups, self.head_dim).transpose(1, 2)\n",
        "    values = values.view(b, num_tokens, self.num_kv_groups, self.head_dim).transpose(1, 2)\n",
        "\n",
        "    # Optional normalization\n",
        "    if self.q_norm:\n",
        "      queries = self.q_norm(queries)\n",
        "    if self.k_norm:\n",
        "      keys = self.k_norm(keys)\n",
        "\n",
        "    # Apply RoPE\n",
        "    queries = apply_rope(queries, cos, sin)\n",
        "    keys = apply_rope(keys, cos, sin)\n",
        "\n",
        "    # Expand K and V to match number of heads\n",
        "    keys = keys.repeat_interleave(self.group_size, dim=1)\n",
        "    values = values.repeat_interleave(self.group_size, dim=1)\n",
        "\n",
        "    # Scale queries\n",
        "    queries = queries * self.scaling\n",
        "\n",
        "    # Attention\n",
        "    attn_scores = queries @ keys.transpose(2, 3)\n",
        "    attn_scores = attn_scores.masked_fill(mask, -torch.inf)\n",
        "    attn_weights = torch.softmax(attn_scores, dim=-1)\n",
        "\n",
        "    context = (attn_weights @ values).transpose(1, 2).reshape(b, num_tokens, self.d_out)\n",
        "    return self.out_proj(context)"
      ],
      "metadata": {
        "id": "H5PPq--PWdVo"
      },
      "execution_count": 8,
      "outputs": []
    },
    {
      "cell_type": "code",
      "source": [
        "# TransformerBlock processes the input through a sequence of normalization, attention, residual connection, normalization, feed-forward, and another residual connection.\n",
        "class TransformerBlock(nn.Module):\n",
        "  def __init__(self, cfg: dict, attn_type: str):\n",
        "    super().__init__()\n",
        "    self.attn_type = attn_type\n",
        "    self.att = GroupedQueryAttention(\n",
        "        d_in=cfg[\"emb_dim\"],\n",
        "        num_heads=cfg[\"n_heads\"],\n",
        "        num_kv_groups=cfg[\"n_kv_groups\"],\n",
        "        head_dim=cfg[\"head_dim\"],\n",
        "        qk_norm=cfg[\"qk_norm\"],\n",
        "        query_pre_attn_scalar=cfg[\"query_pre_attn_scalar\"],\n",
        "        dtype=cfg[\"dtype\"])\n",
        "    self.ff = FeedForward(cfg)\n",
        "    self.input_layernorm = RMSNorm(cfg[\"emb_dim\"], eps=1e-6)\n",
        "    self.post_attention_layernorm = RMSNorm(cfg[\"emb_dim\"], eps=1e-6)\n",
        "    self.pre_feedforward_layernorm = RMSNorm(cfg[\"emb_dim\"], eps=1e-6)\n",
        "    self.post_feedforward_layernorm = RMSNorm(cfg[\"emb_dim\"], eps=1e-6)\n",
        "\n",
        "  def forward(self, x, mask_global, mask_local, cos_global, sin_global, cos_local, sin_local):\n",
        "    # Shortcut connection for attention block\n",
        "    shortcut = x\n",
        "    x = self.input_layernorm(x)\n",
        "\n",
        "    if self.attn_type == \"sliding_attention\":\n",
        "      attn_mask = mask_local\n",
        "      cos = cos_local\n",
        "      sin = sin_local\n",
        "    else:\n",
        "      attn_mask = mask_global\n",
        "      cos = cos_global\n",
        "      sin = sin_global\n",
        "\n",
        "    x_attn = self.att(x, attn_mask, cos, sin)\n",
        "    x_attn = self.post_attention_layernorm(x_attn)\n",
        "    x = shortcut + x_attn\n",
        "\n",
        "    # Shortcut connection for feed forward block\n",
        "    shortcut = x\n",
        "    x_ffn = self.pre_feedforward_layernorm(x)\n",
        "    x_ffn = self.ff(x_ffn)\n",
        "    x_ffn = self.post_feedforward_layernorm(x_ffn)\n",
        "    x = shortcut + x_ffn\n",
        "    return x"
      ],
      "metadata": {
        "id": "QXEwkKZTW-dK"
      },
      "execution_count": 9,
      "outputs": []
    },
    {
      "cell_type": "code",
      "source": [
        "# Orchestrates the flow of data through the entire network, applying token embeddings, multiple transformer blocks with different attention mechanisms and masking, final normalization, and an output head to produce the final token logits.\n",
        "class Gemma3Model(nn.Module):\n",
        "  def __init__(self, cfg):\n",
        "    super().__init__()\n",
        "    assert cfg[\"layer_types\"] is not None and len(cfg[\"layer_types\"]) == cfg[\"n_layers\"]\n",
        "\n",
        "    # Main model parameters\n",
        "    self.tok_emb = nn.Embedding(cfg[\"vocab_size\"], cfg[\"emb_dim\"], dtype=cfg[\"dtype\"])\n",
        "\n",
        "    self.blocks = nn.ModuleList([\n",
        "        TransformerBlock(cfg, attn_type)for attn_type in cfg[\"layer_types\"]\n",
        "    ])\n",
        "\n",
        "    self.final_norm = RMSNorm(cfg[\"emb_dim\"], eps=1e-6)\n",
        "    self.out_head = nn.Linear(cfg[\"emb_dim\"], cfg[\"vocab_size\"], bias=False, dtype=cfg[\"dtype\"])\n",
        "    self.cfg = cfg\n",
        "\n",
        "    # Reusuable utilities\n",
        "    cos_local, sin_local = compute_rope_params(\n",
        "        head_dim=cfg[\"head_dim\"],\n",
        "        theta_base=cfg[\"rope_local_base\"],\n",
        "        context_length=cfg[\"context_length\"],\n",
        "        dtype=torch.float32,\n",
        "    )\n",
        "    cos_global, sin_global = compute_rope_params(\n",
        "        head_dim=cfg[\"head_dim\"],\n",
        "        theta_base=cfg[\"rope_base\"],\n",
        "        context_length=cfg[\"context_length\"],\n",
        "        dtype=torch.float32,\n",
        "    )\n",
        "    self.register_buffer(\"cos_local\", cos_local, persistent=False)\n",
        "    self.register_buffer(\"sin_local\", sin_local, persistent=False)\n",
        "    self.register_buffer(\"cos_global\", cos_global, persistent=False)\n",
        "    self.register_buffer(\"sin_global\", sin_global, persistent=False)\n",
        "\n",
        "  def _create_masks(self, seq_len, device):\n",
        "    ones = torch.ones((seq_len, seq_len), dtype=torch.bool, device=device)\n",
        "\n",
        "    # mask_global (future is masked: j > i)\n",
        "    #     j:  0 1 2 3 4 5 6 7\n",
        "    #  i\n",
        "    #     0:  0 1 1 1 1 1 1 1\n",
        "    #     1:  0 0 1 1 1 1 1 1\n",
        "    #     2:  0 0 0 1 1 1 1 1\n",
        "    #     3:  0 0 0 0 1 1 1 1\n",
        "    #     4:  0 0 0 0 0 1 1 1\n",
        "    #     5:  0 0 0 0 0 0 1 1\n",
        "    #     6:  0 0 0 0 0 0 0 1\n",
        "    #     7:  0 0 0 0 0 0 0 0\n",
        "    mask_global = torch.triu(ones, diagonal=1)\n",
        "\n",
        "    # far_past (too far back is masked: i - j >= sliding_window)\n",
        "    # where sliding_window = 4\n",
        "    #     j:  0 1 2 3 4 5 6 7\n",
        "    #  i\n",
        "    #     0:  0 0 0 0 0 0 0 0\n",
        "    #     1:  0 0 0 0 0 0 0 0\n",
        "    #     2:  0 0 0 0 0 0 0 0\n",
        "    #     3:  0 0 0 0 0 0 0 0\n",
        "    #     4:  1 0 0 0 0 0 0 0\n",
        "    #     5:  1 1 0 0 0 0 0 0\n",
        "    #     6:  1 1 1 0 0 0 0 0\n",
        "    #     7:  1 1 1 1 0 0 0 0\n",
        "    far_past = torch.triu(ones, diagonal=self.cfg[\"sliding_window\"]).T\n",
        "\n",
        "    # Local (sliding_window) = future OR far-past\n",
        "    # mask_local\n",
        "    #     j:  0 1 2 3 4 5 6 7\n",
        "    # i\n",
        "    # 0:      0 1 1 1 1 1 1 1\n",
        "    # 1:      0 0 1 1 1 1 1 1\n",
        "    # 2:      0 0 0 1 1 1 1 1\n",
        "    # 3:      0 0 0 0 1 1 1 1\n",
        "    # 4:      1 0 0 0 0 1 1 1\n",
        "    # 5:      1 1 0 0 0 0 1 1\n",
        "    # 6:      1 1 1 0 0 0 0 1\n",
        "    # 7:      1 1 1 1 0 0 0 0\n",
        "    mask_local = mask_global | far_past\n",
        "    return mask_global, mask_local\n",
        "\n",
        "  def forward(self, input_ids):\n",
        "    # Forward pass\n",
        "    b, seq_len = input_ids.shape\n",
        "    x = self.tok_emb(input_ids) * (self.cfg[\"emb_dim\"] ** 0.5)\n",
        "    mask_global, mask_local = self._create_masks(seq_len, x.device)\n",
        "\n",
        "    for block in self.blocks:\n",
        "      x = block(\n",
        "          x,\n",
        "          mask_global=mask_global,\n",
        "          mask_local=mask_local,\n",
        "          cos_global=self.cos_global,\n",
        "          sin_global=self.sin_global,\n",
        "          cos_local=self.cos_local,\n",
        "          sin_local=self.sin_local,\n",
        "      )\n",
        "\n",
        "    x = self.final_norm(x)\n",
        "    logits = self.out_head(x.to(self.cfg[\"dtype\"]))\n",
        "    return logits"
      ],
      "metadata": {
        "id": "BxW9Stc2XW9W"
      },
      "execution_count": 10,
      "outputs": []
    },
    {
      "cell_type": "markdown",
      "source": [
        "# **2. Initialize model**"
      ],
      "metadata": {
        "id": "Y9xZqsSsXtSj"
      }
    },
    {
      "cell_type": "code",
      "source": [
        "GEMMA3_CONFIG_270M = {\n",
        "    \"vocab_size\": 262_144,\n",
        "    \"context_length\": 32_768,\n",
        "    \"emb_dim\": 640,\n",
        "    \"n_heads\": 4,\n",
        "    \"n_layers\": 18,\n",
        "    \"hidden_dim\": 2048,\n",
        "    \"head_dim\": 256,\n",
        "    \"qk_norm\": True,\n",
        "    \"n_kv_groups\": 1,\n",
        "    \"rope_local_base\": 10_000.0,\n",
        "    \"rope_base\": 1_000_000.0,\n",
        "    \"sliding_window\": 512,\n",
        "      \"layer_types\": [\n",
        "        \"sliding_attention\",\n",
        "        \"sliding_attention\",\n",
        "        \"sliding_attention\",\n",
        "        \"sliding_attention\",\n",
        "        \"sliding_attention\",\n",
        "        \"full_attention\",\n",
        "        \"sliding_attention\",\n",
        "        \"sliding_attention\",\n",
        "        \"sliding_attention\",\n",
        "        \"sliding_attention\",\n",
        "        \"sliding_attention\",\n",
        "        \"full_attention\",\n",
        "        \"sliding_attention\",\n",
        "        \"sliding_attention\",\n",
        "        \"sliding_attention\",\n",
        "        \"sliding_attention\",\n",
        "        \"sliding_attention\",\n",
        "        \"full_attention\"\n",
        "    ],\n",
        "    \"dtype\": torch.bfloat16,\n",
        "    \"query_pre_attn_scalar\": 256,\n",
        "}"
      ],
      "metadata": {
        "id": "_GOalGWBXqDB"
      },
      "execution_count": 11,
      "outputs": []
    },
    {
      "cell_type": "code",
      "source": [
        "torch.manual_seed(123)\n",
        "model = Gemma3Model(GEMMA3_CONFIG_270M)"
      ],
      "metadata": {
        "id": "8QwN950CXx-E"
      },
      "execution_count": 12,
      "outputs": []
    },
    {
      "cell_type": "code",
      "source": [
        "model"
      ],
      "metadata": {
        "colab": {
          "base_uri": "https://localhost:8080/"
        },
        "id": "XN0SLEWGX0Ye",
        "outputId": "b0dac6f8-66fa-4669-8e11-61d8b84c65b6"
      },
      "execution_count": 13,
      "outputs": [
        {
          "output_type": "execute_result",
          "data": {
            "text/plain": [
              "Gemma3Model(\n",
              "  (tok_emb): Embedding(262144, 640)\n",
              "  (blocks): ModuleList(\n",
              "    (0-17): 18 x TransformerBlock(\n",
              "      (att): GroupedQueryAttention(\n",
              "        (W_query): Linear(in_features=640, out_features=1024, bias=False)\n",
              "        (W_key): Linear(in_features=640, out_features=256, bias=False)\n",
              "        (W_value): Linear(in_features=640, out_features=256, bias=False)\n",
              "        (out_proj): Linear(in_features=1024, out_features=640, bias=False)\n",
              "        (q_norm): RMSNorm()\n",
              "        (k_norm): RMSNorm()\n",
              "      )\n",
              "      (ff): FeedForward(\n",
              "        (fc1): Linear(in_features=640, out_features=2048, bias=False)\n",
              "        (fc2): Linear(in_features=640, out_features=2048, bias=False)\n",
              "        (fc3): Linear(in_features=2048, out_features=640, bias=False)\n",
              "      )\n",
              "      (input_layernorm): RMSNorm()\n",
              "      (post_attention_layernorm): RMSNorm()\n",
              "      (pre_feedforward_layernorm): RMSNorm()\n",
              "      (post_feedforward_layernorm): RMSNorm()\n",
              "    )\n",
              "  )\n",
              "  (final_norm): RMSNorm()\n",
              "  (out_head): Linear(in_features=640, out_features=262144, bias=False)\n",
              ")"
            ]
          },
          "metadata": {},
          "execution_count": 13
        }
      ]
    },
    {
      "cell_type": "code",
      "source": [
        "model(torch.tensor([1, 2, 3]).unsqueeze(0))"
      ],
      "metadata": {
        "colab": {
          "base_uri": "https://localhost:8080/"
        },
        "id": "gH6od1u9Ysy-",
        "outputId": "cc55d8e1-a0e6-4139-e4b9-1237b2a2aa20"
      },
      "execution_count": 14,
      "outputs": [
        {
          "output_type": "execute_result",
          "data": {
            "text/plain": [
              "tensor([[[ 0.7539,  0.1060,  0.4805,  ...,  0.9375,  0.4043, -0.2383],\n",
              "         [-0.3418, -0.0576,  0.8984,  ..., -0.2432,  0.4629,  0.8242],\n",
              "         [-0.2695, -0.3281,  0.4102,  ...,  0.8750, -0.9727,  0.9844]]],\n",
              "       dtype=torch.bfloat16, grad_fn=<UnsafeViewBackward0>)"
            ]
          },
          "metadata": {},
          "execution_count": 14
        }
      ]
    },
    {
      "cell_type": "code",
      "source": [
        "total_params = sum(p.numel() for p in model.parameters())\n",
        "print(f\"Total number of parameters: {total_params:,}\")\n",
        "\n",
        "# Account for weight tying\n",
        "total_params_normalized = total_params - model.tok_emb.weight.numel()\n",
        "print(f\"\\nTotal number of unique parameters: {total_params_normalized:,}\")"
      ],
      "metadata": {
        "colab": {
          "base_uri": "https://localhost:8080/"
        },
        "id": "swD9yD2FYwHD",
        "outputId": "d13c3c1b-80d4-49f7-8ad5-5b64c0cc2d57"
      },
      "execution_count": 15,
      "outputs": [
        {
          "output_type": "stream",
          "name": "stdout",
          "text": [
            "Total number of parameters: 435,870,336\n",
            "\n",
            "Total number of unique parameters: 268,098,176\n"
          ]
        }
      ]
    },
    {
      "cell_type": "code",
      "source": [
        "def model_memory_size(model, input_dtype=torch.float32):\n",
        "  total_params = 0\n",
        "  total_grads = 0\n",
        "  for param in model.parameters():\n",
        "    # Calculate total number of elements per parameter\n",
        "    param_size = param.numel()\n",
        "    total_params += param_size\n",
        "    # Check if gradients are stored for this parameter\n",
        "    if param.requires_grad:\n",
        "      total_grads += param_size\n",
        "\n",
        "  # Calculate buffer size (non-parameters that require memory)\n",
        "  total_buffers = sum(buf.numel() for buf in model.buffers())\n",
        "\n",
        "  # Size in bytes = (Number of elements) * (Size of each element in bytes)\n",
        "  # We assume parameters and gradients are stored in the same type as input dtype\n",
        "  element_size = torch.tensor(0, dtype=input_dtype).element_size()\n",
        "  total_memory_bytes = (total_params + total_grads + total_buffers) * element_size\n",
        "\n",
        "  # Convert bytes to gigabytes\n",
        "  total_memory_gb = total_memory_bytes / (1024**3)\n",
        "\n",
        "  return total_memory_gb\n",
        "\n",
        "print(f\"float32 (PyTorch default): {model_memory_size(model, input_dtype=torch.float32):.2f} GB\")\n",
        "print(f\"bfloat16: {model_memory_size(model, input_dtype=torch.bfloat16):.2f} GB\")"
      ],
      "metadata": {
        "colab": {
          "base_uri": "https://localhost:8080/"
        },
        "id": "CE0I6eOWYysP",
        "outputId": "a7f832ae-179b-457b-d896-57445ea232c6"
      },
      "execution_count": 16,
      "outputs": [
        {
          "output_type": "stream",
          "name": "stdout",
          "text": [
            "float32 (PyTorch default): 3.37 GB\n",
            "bfloat16: 1.69 GB\n"
          ]
        }
      ]
    },
    {
      "cell_type": "code",
      "source": [
        "if torch.cuda.is_available():\n",
        "    device = torch.device(\"cuda\")\n",
        "elif torch.backends.mps.is_available():\n",
        "    device = torch.device(\"mps\")\n",
        "else:\n",
        "    device = torch.device(\"cpu\")\n",
        "\n",
        "model.to(device);"
      ],
      "metadata": {
        "id": "uXz0OJIBY7At"
      },
      "execution_count": 17,
      "outputs": []
    },
    {
      "cell_type": "markdown",
      "source": [
        "# **3. Load pretrained weights**"
      ],
      "metadata": {
        "id": "uZTN3iXJZIQh"
      }
    },
    {
      "cell_type": "code",
      "source": [
        "# Transfers the learned knowledge from a pretrained model to custom model implementation, allowing us to leverage the benefits of pretraining without training from scratch.\n",
        "def load_weights_into_gemma(Gemma3Model, param_config, params):\n",
        "  def assign(left, right, tensor_name=\"unknown\"):\n",
        "    if left.shape != right.shape:\n",
        "      raise ValueError(\n",
        "          f\"Shape mismatch in tensor '{tensor_name}'. Left: {left.shape}, Right: {right.shape}\"\n",
        "      )\n",
        "    return torch.nn.Parameter(right.clone().detach() if isinstance(right, torch.Tensor) else torch.tensor(right))\n",
        "\n",
        "  # Embedding weights\n",
        "  if \"model.embed_tokens.weight\" in params:\n",
        "    model.tok_emb.weight = assign(\n",
        "        model.tok_emb.weight,\n",
        "        params[\"model.embed_tokens.weight\"],\n",
        "        \"model.embed_tokens.weight\",\n",
        "    )\n",
        "\n",
        "  # Iterate over transformer layers\n",
        "  for l in range(param_config[\"n_layers\"]):\n",
        "    block = model.blocks[l]\n",
        "    att = block.att\n",
        "    # Attention projections\n",
        "    att.W_query.weight = assign(\n",
        "        att.W_query.weight,\n",
        "        params[f\"model.layers.{l}.self_attn.q_proj.weight\"],\n",
        "        f\"model.layers.{l}.self_attn.q_proj.weight\",\n",
        "    )\n",
        "    att.W_key.weight = assign(\n",
        "        att.W_key.weight,\n",
        "        params[f\"model.layers.{l}.self_attn.k_proj.weight\"],\n",
        "        f\"model.layers.{l}.self_attn.k_proj.weight\",\n",
        "    )\n",
        "    att.W_value.weight = assign(\n",
        "        att.W_value.weight,\n",
        "        params[f\"model.layers.{l}.self_attn.v_proj.weight\"],\n",
        "        f\"model.layers.{l}.self_attn.v_proj.weight\",\n",
        "    )\n",
        "    att.out_proj.weight = assign(\n",
        "        att.out_proj.weight,\n",
        "        params[f\"model.layers.{l}.self_attn.o_proj.weight\"],\n",
        "        f\"model.layers.{l}.self_attn.o_proj.weight\",\n",
        "    )\n",
        "    # QK normalization weights\n",
        "    att.q_norm.scale = assign(\n",
        "        att.q_norm.scale,\n",
        "        params[f\"model.layers.{l}.self_attn.q_norm.weight\"],\n",
        "        f\"model.layers.{l}.self_attn.q_norm.weight\",\n",
        "    )\n",
        "    att.k_norm.scale = assign(\n",
        "        att.k_norm.scale,\n",
        "        params[f\"model.layers.{l}.self_attn.k_norm.weight\"],\n",
        "        f\"model.layers.{l}.self_attn.k_norm.weight\",\n",
        "    )\n",
        "    # Feed forward weights\n",
        "    block.ff.fc1.weight = assign(\n",
        "        block.ff.fc1.weight,\n",
        "        params[f\"model.layers.{l}.mlp.gate_proj.weight\"],\n",
        "        f\"model.layers.{l}.mlp.gate_proj.weight\",\n",
        "    )\n",
        "    block.ff.fc2.weight = assign(\n",
        "        block.ff.fc2.weight,\n",
        "        params[f\"model.layers.{l}.mlp.up_proj.weight\"],\n",
        "        f\"model.layers.{l}.mlp.up_proj.weight\",\n",
        "    )\n",
        "    block.ff.fc3.weight = assign(\n",
        "        block.ff.fc3.weight,\n",
        "        params[f\"model.layers.{l}.mlp.down_proj.weight\"],\n",
        "        f\"model.layers.{l}.mlp.down_proj.weight\",\n",
        "    )\n",
        "    # LayerNorm weights\n",
        "    block.input_layernorm.scale = assign(\n",
        "        block.input_layernorm.scale,\n",
        "        params[f\"model.layers.{l}.input_layernorm.weight\"],\n",
        "        f\"model.layers.{l}.input_layernorm.weight\",\n",
        "    )\n",
        "    block.post_attention_layernorm.scale = assign(\n",
        "        block.post_attention_layernorm.scale,\n",
        "        params[f\"model.layers.{l}.post_attention_layernorm.weight\"],\n",
        "        f\"model.layers.{l}.post_attention_layernorm.weight\",\n",
        "    )\n",
        "    # Pre‑ and post‑feed forward norms\n",
        "    pre_key = f\"model.layers.{l}.pre_feedforward_layernorm.weight\"\n",
        "    post_key = f\"model.layers.{l}.post_feedforward_layernorm.weight\"\n",
        "    if pre_key in params:\n",
        "      block.pre_feedforward_layernorm.scale = assign(\n",
        "          block.pre_feedforward_layernorm.scale,\n",
        "          params[pre_key],\n",
        "          pre_key,\n",
        "      )\n",
        "    if post_key in params:\n",
        "      block.post_feedforward_layernorm.scale = assign(\n",
        "          block.post_feedforward_layernorm.scale,\n",
        "          params[post_key],\n",
        "          post_key,\n",
        "      )\n",
        "\n",
        "  # Final LayerNorm\n",
        "  if \"model.norm.weight\" in params:\n",
        "    model.final_norm.scale = assign(\n",
        "        model.final_norm.scale,\n",
        "        params[\"model.norm.weight\"],\n",
        "        \"model.norm.weight\",\n",
        "    )\n",
        "  # Output head\n",
        "  if \"lm_head.weight\" in params:\n",
        "    model.out_head.weight = assign(\n",
        "        model.out_head.weight,\n",
        "        params[\"lm_head.weight\"],\n",
        "        \"lm_head.weight\",\n",
        "    )\n",
        "  elif \"model.embed_tokens.weight\" in params:\n",
        "    # Weight tying: reuse the embedding weights\n",
        "    model.out_head.weight = assign(\n",
        "        model.out_head.weight,\n",
        "        params[\"model.embed_tokens.weight\"],\n",
        "        \"model.embed_tokens.weight\",\n",
        "    )"
      ],
      "metadata": {
        "id": "28BrAib-Y-ND"
      },
      "execution_count": 18,
      "outputs": []
    },
    {
      "cell_type": "code",
      "source": [
        "from huggingface_hub import login\n",
        "login()"
      ],
      "metadata": {
        "colab": {
          "base_uri": "https://localhost:8080/",
          "height": 17,
          "referenced_widgets": [
            "dd8d05b942d34485ba1d0cfe5eeb6558",
            "1d734c3b171146af86dda9df12394d2a",
            "f310e3e6d3f84cc4abd3c5f8fdffe575",
            "51b8b0dabd1847d899f80425b20b3f18",
            "d76e089bca8947b68b8021c1ba6bf9f2",
            "ac892afdfb48473a9c6f8cb3d6ce863b",
            "bbc1fd290bce44a391142259f244dd43",
            "002e0fd3b2ba4e94a89a4ae1adbe4ebd",
            "3a39e253eee0423f8f8929267117422e",
            "f115bc11bdeb42bb91fe32977d8fd877",
            "8f158a13af564a6c8852b90ef212f75f",
            "020a3da5a07b4947a2c26f0ca0091bec",
            "a1425f13643740fb9fbdbf86fead735b",
            "5d05db9defae499abf3615967a010403",
            "d3537a5ccf18409190f431a52286e108",
            "66d5a11b80644887af6e1514f83fdc13",
            "d0d538c68b5a436ca0b64d9ccde4744c"
          ]
        },
        "id": "1Bcg6b6dZnzz",
        "outputId": "7cd55869-1fa7-447f-e4aa-8828982f1585"
      },
      "execution_count": 19,
      "outputs": [
        {
          "output_type": "display_data",
          "data": {
            "text/plain": [
              "VBox(children=(HTML(value='<center> <img\\nsrc=https://huggingface.co/front/assets/huggingface_logo-noborder.sv…"
            ],
            "application/vnd.jupyter.widget-view+json": {
              "version_major": 2,
              "version_minor": 0,
              "model_id": "dd8d05b942d34485ba1d0cfe5eeb6558"
            }
          },
          "metadata": {}
        }
      ]
    },
    {
      "cell_type": "code",
      "source": [
        "import json\n",
        "import os\n",
        "from pathlib import Path\n",
        "from safetensors.torch import load_file\n",
        "from huggingface_hub import hf_hub_download, snapshot_download\n",
        "\n",
        "CHOOSE_MODEL = \"270m\"\n",
        "\n",
        "if USE_INSTRUCT_MODEL:\n",
        "  repo_id = f\"google/gemma-3-{CHOOSE_MODEL}-it\"\n",
        "else:\n",
        "  repo_id = f\"google/gemma-3-{CHOOSE_MODEL}\"\n",
        "\n",
        "\n",
        "local_dir = Path(repo_id).parts[-1]\n",
        "\n",
        "if CHOOSE_MODEL == \"270m\":\n",
        "  weights_file = hf_hub_download(\n",
        "      repo_id=repo_id,\n",
        "      filename=\"model.safetensors\",\n",
        "      local_dir=local_dir,\n",
        "  )\n",
        "  weights_dict = load_file(weights_file)\n",
        "else:\n",
        "  repo_dir = snapshot_download(repo_id=repo_id, local_dir=local_dir)\n",
        "  index_path = os.path.join(repo_dir, \"model.safetensors.index.json\")\n",
        "  with open(index_path, \"r\") as f:\n",
        "    index = json.load(f)\n",
        "\n",
        "  weights_dict = {}\n",
        "  for filename in set(index[\"weight_map\"].values()):\n",
        "    shard_path = os.path.join(repo_dir, filename)\n",
        "    shard = load_file(shard_path)\n",
        "    weights_dict.update(shard)\n",
        "\n",
        "load_weights_into_gemma(model, GEMMA3_CONFIG_270M, weights_dict)\n",
        "model.to(device)\n",
        "del weights_dict"
      ],
      "metadata": {
        "id": "tU8MyhrNZuPW"
      },
      "execution_count": 20,
      "outputs": []
    },
    {
      "cell_type": "markdown",
      "source": [
        "# **4. Load Tokenizer**"
      ],
      "metadata": {
        "id": "vfsIGij091QO"
      }
    },
    {
      "cell_type": "code",
      "source": [
        "from tokenizers import Tokenizer\n",
        "\n",
        "# Encodes text into a format the model can process, and decodes the model's output back into human-readable text\n",
        "class GemmaTokenizer:\n",
        "  def __init__(self, tokenizer_file_path: str):\n",
        "    tok_file = Path(tokenizer_file_path)\n",
        "    self._tok = Tokenizer.from_file(str(tok_file))\n",
        "    # Attempt to identify EOS and padding tokens\n",
        "    eos_token = \"<end_of_turn>\"\n",
        "    self.pad_token_id = eos_token\n",
        "    self.eos_token_id = eos_token\n",
        "\n",
        "  def encode(self, text: str) -> list[int]:\n",
        "    return self._tok.encode(text).ids\n",
        "\n",
        "  def decode(self, ids: list[int]) -> str:\n",
        "    return self._tok.decode(ids, skip_special_tokens=False)\n",
        "\n",
        "\n",
        "def apply_chat_template(user_text):\n",
        "  return f\"<start_of_turn>user\\n{user_text}<end_of_turn>\\n<start_of_turn>model\\n\""
      ],
      "metadata": {
        "id": "2g8eS9dtaCgR"
      },
      "execution_count": 21,
      "outputs": []
    },
    {
      "cell_type": "code",
      "source": [
        "tokenizer_file_path = os.path.join(local_dir, \"tokenizer.json\")\n",
        "if not os.path.exists(tokenizer_file_path):\n",
        "  try:\n",
        "    tokenizer_file_path = hf_hub_download(repo_id=repo_id, filename=\"tokenizer.json\", local_dir=local_dir)\n",
        "  except Exception as e:\n",
        "    print(f\"Warning: failed to download tokenizer.json: {e}\")\n",
        "    tokenizer_file_path = \"tokenizer.json\"\n",
        "\n",
        "tokenizer = GemmaTokenizer(tokenizer_file_path=tokenizer_file_path)"
      ],
      "metadata": {
        "id": "bBva-6HM969A"
      },
      "execution_count": 22,
      "outputs": []
    },
    {
      "cell_type": "code",
      "source": [
        "prompt = apply_chat_template(\"Give me a short introduction of Steve Jobs.\")\n",
        "\n",
        "input_token_ids = tokenizer.encode(prompt)\n",
        "text = tokenizer.decode(input_token_ids)\n",
        "text"
      ],
      "metadata": {
        "colab": {
          "base_uri": "https://localhost:8080/",
          "height": 36
        },
        "id": "C4j-3jwX9_nk",
        "outputId": "e4f87d03-a5b1-4b62-dfc0-126f19e71c6e"
      },
      "execution_count": 23,
      "outputs": [
        {
          "output_type": "execute_result",
          "data": {
            "text/plain": [
              "'<bos><start_of_turn>user\\nGive me a short introduction of Steve Jobs.<end_of_turn>\\n<start_of_turn>model\\n'"
            ],
            "application/vnd.google.colaboratory.intrinsic+json": {
              "type": "string"
            }
          },
          "metadata": {},
          "execution_count": 23
        }
      ]
    },
    {
      "cell_type": "markdown",
      "source": [
        "# **5. Text Generation**"
      ],
      "metadata": {
        "id": "iGsaZFnS-NY1"
      }
    },
    {
      "cell_type": "code",
      "source": [
        "def generate_text_basic_stream(model, token_ids, max_new_tokens, eos_token_id=None):\n",
        "  model.eval()\n",
        "  with torch.no_grad():\n",
        "    for _ in range(max_new_tokens):\n",
        "      out = model(token_ids)[:, -1]\n",
        "      next_token = torch.argmax(out, dim=-1, keepdim=True)\n",
        "\n",
        "      if (eos_token_id is not None and torch.all(next_token == eos_token_id)):\n",
        "        break\n",
        "\n",
        "      yield next_token\n",
        "\n",
        "      token_ids = torch.cat([token_ids, next_token], dim=1)"
      ],
      "metadata": {
        "id": "s05Hx8Mn-Ew6"
      },
      "execution_count": 24,
      "outputs": []
    },
    {
      "cell_type": "code",
      "source": [
        "input_token_ids_tensor = torch.tensor(input_token_ids, device=device).unsqueeze(0)\n",
        "\n",
        "\n",
        "for token in generate_text_basic_stream(\n",
        "  model=model,\n",
        "  token_ids=input_token_ids_tensor,\n",
        "  max_new_tokens=100000,\n",
        "  eos_token_id=tokenizer.encode(\"<end_of_turn>\")[-1]\n",
        "):\n",
        "  token_id = token.squeeze(0).tolist()\n",
        "  print(\n",
        "    tokenizer.decode(token_id),\n",
        "    end=\"\",\n",
        "    flush=True\n",
        "  )"
      ],
      "metadata": {
        "colab": {
          "base_uri": "https://localhost:8080/"
        },
        "id": "RIDvnkai-Mye",
        "outputId": "d089f149-9eab-464a-eb69-8c10bb362ba9"
      },
      "execution_count": 25,
      "outputs": [
        {
          "output_type": "stream",
          "name": "stdout",
          "text": [
            "Steve Jobs was a legendary American entrepreneur and visionary who revolutionized the world of technology and design. He was known for his innovative approach to product development, his focus on user experience, and his commitment to creating a seamless and intuitive digital experience. He is considered one of the most influential figures in the history of technology and has had a profound impact on the world.\n"
          ]
        }
      ]
    }
  ]
}